{
  "nbformat": 4,
  "nbformat_minor": 0,
  "metadata": {
    "colab": {
      "provenance": []
    },
    "kernelspec": {
      "name": "python3",
      "display_name": "Python 3"
    },
    "language_info": {
      "name": "python"
    }
  },
  "cells": [
    {
      "cell_type": "code",
      "source": [
        "%pip -q install google-genai"
      ],
      "metadata": {
        "id": "UCCbECexLk_h"
      },
      "execution_count": 27,
      "outputs": []
    },
    {
      "cell_type": "code",
      "source": [
        "# Configura a API Key do Google Gemini\n",
        "\n",
        "import os\n",
        "from google.colab import userdata\n",
        "\n",
        "os.environ[\"GOOGLE_API_KEY\"] = userdata.get('GOOGLE_API_KEY')"
      ],
      "metadata": {
        "id": "NfCqHo1tLk8P"
      },
      "execution_count": 26,
      "outputs": []
    },
    {
      "cell_type": "code",
      "source": [
        "# Configura o cliente da SDK do Gemini\n",
        "\n",
        "from google import genai\n",
        "\n",
        "client = genai.Client()\n",
        "\n",
        "MODEL_ID = \"gemini-2.0-flash\""
      ],
      "metadata": {
        "id": "bV4w0H5TLk5g"
      },
      "execution_count": 28,
      "outputs": []
    },
    {
      "cell_type": "code",
      "source": [
        "!pip install --upgrade google-api-python-client google-auth-httplib2 google-auth-oauthlib"
      ],
      "metadata": {
        "colab": {
          "base_uri": "https://localhost:8080/"
        },
        "id": "HBv0odawEeXH",
        "outputId": "28aac13c-6b36-4aca-fd8c-a2dd0e118fb2"
      },
      "execution_count": null,
      "outputs": [
        {
          "output_type": "stream",
          "name": "stdout",
          "text": [
            "Requirement already satisfied: google-api-python-client in /usr/local/lib/python3.11/dist-packages (2.169.0)\n",
            "Requirement already satisfied: google-auth-httplib2 in /usr/local/lib/python3.11/dist-packages (0.2.0)\n",
            "Requirement already satisfied: google-auth-oauthlib in /usr/local/lib/python3.11/dist-packages (1.2.2)\n",
            "Requirement already satisfied: httplib2<1.0.0,>=0.19.0 in /usr/local/lib/python3.11/dist-packages (from google-api-python-client) (0.22.0)\n",
            "Requirement already satisfied: google-auth!=2.24.0,!=2.25.0,<3.0.0,>=1.32.0 in /usr/local/lib/python3.11/dist-packages (from google-api-python-client) (2.38.0)\n",
            "Requirement already satisfied: google-api-core!=2.0.*,!=2.1.*,!=2.2.*,!=2.3.0,<3.0.0,>=1.31.5 in /usr/local/lib/python3.11/dist-packages (from google-api-python-client) (2.24.2)\n",
            "Requirement already satisfied: uritemplate<5,>=3.0.1 in /usr/local/lib/python3.11/dist-packages (from google-api-python-client) (4.1.1)\n",
            "Requirement already satisfied: requests-oauthlib>=0.7.0 in /usr/local/lib/python3.11/dist-packages (from google-auth-oauthlib) (2.0.0)\n",
            "Requirement already satisfied: googleapis-common-protos<2.0.0,>=1.56.2 in /usr/local/lib/python3.11/dist-packages (from google-api-core!=2.0.*,!=2.1.*,!=2.2.*,!=2.3.0,<3.0.0,>=1.31.5->google-api-python-client) (1.70.0)\n",
            "Requirement already satisfied: protobuf!=3.20.0,!=3.20.1,!=4.21.0,!=4.21.1,!=4.21.2,!=4.21.3,!=4.21.4,!=4.21.5,<7.0.0,>=3.19.5 in /usr/local/lib/python3.11/dist-packages (from google-api-core!=2.0.*,!=2.1.*,!=2.2.*,!=2.3.0,<3.0.0,>=1.31.5->google-api-python-client) (5.29.4)\n",
            "Requirement already satisfied: proto-plus<2.0.0,>=1.22.3 in /usr/local/lib/python3.11/dist-packages (from google-api-core!=2.0.*,!=2.1.*,!=2.2.*,!=2.3.0,<3.0.0,>=1.31.5->google-api-python-client) (1.26.1)\n",
            "Requirement already satisfied: requests<3.0.0,>=2.18.0 in /usr/local/lib/python3.11/dist-packages (from google-api-core!=2.0.*,!=2.1.*,!=2.2.*,!=2.3.0,<3.0.0,>=1.31.5->google-api-python-client) (2.32.3)\n",
            "Requirement already satisfied: cachetools<6.0,>=2.0.0 in /usr/local/lib/python3.11/dist-packages (from google-auth!=2.24.0,!=2.25.0,<3.0.0,>=1.32.0->google-api-python-client) (5.5.2)\n",
            "Requirement already satisfied: pyasn1-modules>=0.2.1 in /usr/local/lib/python3.11/dist-packages (from google-auth!=2.24.0,!=2.25.0,<3.0.0,>=1.32.0->google-api-python-client) (0.4.2)\n",
            "Requirement already satisfied: rsa<5,>=3.1.4 in /usr/local/lib/python3.11/dist-packages (from google-auth!=2.24.0,!=2.25.0,<3.0.0,>=1.32.0->google-api-python-client) (4.9.1)\n",
            "Requirement already satisfied: pyparsing!=3.0.0,!=3.0.1,!=3.0.2,!=3.0.3,<4,>=2.4.2 in /usr/local/lib/python3.11/dist-packages (from httplib2<1.0.0,>=0.19.0->google-api-python-client) (3.2.3)\n",
            "Requirement already satisfied: oauthlib>=3.0.0 in /usr/local/lib/python3.11/dist-packages (from requests-oauthlib>=0.7.0->google-auth-oauthlib) (3.2.2)\n",
            "Requirement already satisfied: pyasn1<0.7.0,>=0.6.1 in /usr/local/lib/python3.11/dist-packages (from pyasn1-modules>=0.2.1->google-auth!=2.24.0,!=2.25.0,<3.0.0,>=1.32.0->google-api-python-client) (0.6.1)\n",
            "Requirement already satisfied: charset-normalizer<4,>=2 in /usr/local/lib/python3.11/dist-packages (from requests<3.0.0,>=2.18.0->google-api-core!=2.0.*,!=2.1.*,!=2.2.*,!=2.3.0,<3.0.0,>=1.31.5->google-api-python-client) (3.4.2)\n",
            "Requirement already satisfied: idna<4,>=2.5 in /usr/local/lib/python3.11/dist-packages (from requests<3.0.0,>=2.18.0->google-api-core!=2.0.*,!=2.1.*,!=2.2.*,!=2.3.0,<3.0.0,>=1.31.5->google-api-python-client) (3.10)\n",
            "Requirement already satisfied: urllib3<3,>=1.21.1 in /usr/local/lib/python3.11/dist-packages (from requests<3.0.0,>=2.18.0->google-api-core!=2.0.*,!=2.1.*,!=2.2.*,!=2.3.0,<3.0.0,>=1.31.5->google-api-python-client) (2.4.0)\n",
            "Requirement already satisfied: certifi>=2017.4.17 in /usr/local/lib/python3.11/dist-packages (from requests<3.0.0,>=2.18.0->google-api-core!=2.0.*,!=2.1.*,!=2.2.*,!=2.3.0,<3.0.0,>=1.31.5->google-api-python-client) (2025.4.26)\n"
          ]
        }
      ]
    },
    {
      "cell_type": "code",
      "source": [
        "# Link Google Calendar\n",
        "from urllib.parse import quote_plus\n",
        "import datetime\n",
        "\n",
        "def gerar_link_google_calendar(titulo, horario_inicio_str, horario_fim_str):\n",
        "    \"\"\"\n",
        "    Gera um link para adicionar um evento ao Google Calendar.\n",
        "\n",
        "    Args:\n",
        "        titulo (str): O título do evento.\n",
        "        horario_inicio_str (str): O horário de início do evento no formato HH:MM.\n",
        "        horario_fim_str (str): O horário de fim do evento no formato HH:MM.\n",
        "\n",
        "    Returns:\n",
        "        str: O link para o Google Calendar ou None em caso de erro na formatação do horário.\n",
        "    \"\"\"\n",
        "    try:\n",
        "        data_hoje = datetime.date.today()\n",
        "        data_hoje_str = data_hoje.strftime(\"%Y%m%d\")\n",
        "        inicio_fmt = data_hoje_str + \"T\" + horario_inicio_str.replace(\":\", \"\") + \"00\"\n",
        "        fim_fmt = data_hoje_str + \"T\" + horario_fim_str.replace(\":\", \"\") + \"00\"\n",
        "    except ValueError:\n",
        "        return None\n",
        "\n",
        "    base = \"https://www.google.com/calendar/render?action=TEMPLATE\"\n",
        "    text = f\"&text={quote_plus(titulo)}\"\n",
        "    dates = f\"&dates={quote_plus(inicio_fmt)}/{quote_plus(fim_fmt)}\"\n",
        "    details = \"&details=Agendamento%20de%20Exame\" # Personalizei o detalhe\n",
        "    timezone = \"&ctz=America/Sao_Paulo\"\n",
        "    return f\"{base}{text}{dates}{details}{timezone}\"\n",
        "\n",
        "if __name__ == '__main__':\n",
        "    titulo_exame = \"Consulta de Retorno - Cardiologia\"\n",
        "    horario_inicio = \"10:30\"\n",
        "    horario_fim = \"11:00\"\n",
        "\n",
        "    link_calendario = gerar_link_google_calendar(titulo_exame, horario_inicio, horario_fim)\n",
        "\n",
        "    if link_calendario:\n",
        "        print(f\"Link para adicionar ao Google Calendar: {link_calendario}\")\n",
        "    else:\n",
        "        print(\"Erro ao gerar o link do Google Calendar.\")"
      ],
      "metadata": {
        "colab": {
          "base_uri": "https://localhost:8080/"
        },
        "id": "0Dwa9RyDRUnT",
        "outputId": "f5b9b88c-decc-4919-82cd-7f7053e9da52"
      },
      "execution_count": null,
      "outputs": [
        {
          "output_type": "stream",
          "name": "stdout",
          "text": [
            "Link para adicionar ao Google Calendar: https://www.google.com/calendar/render?action=TEMPLATE&text=Consulta+de+Retorno+-+Cardiologia&dates=20250516T103000/20250516T110000&details=Agendamento%20de%20Exame&ctz=America/Sao_Paulo\n"
          ]
        }
      ]
    },
    {
      "cell_type": "code",
      "source": [
        "lista_exames = []\n",
        "\n",
        "def coletar_dados_exame():\n",
        "    \"\"\"Coleta os dados do exame inseridos pelo usuário.\"\"\"\n",
        "    dados = {}\n",
        "    dados['tipo_exame'] = input(\"Digite o tipo do exame: \")\n",
        "    dados['data_exame'] = input(\"Digite a data do exame (AAAA-MM-DD): \")\n",
        "    dados['nome_medico'] = input(\"Digite o nome do médico (opcional, deixe em branco se não houver): \")\n",
        "    dados['nome_laboratorio'] = input(\"Digite o nome do laboratório (opcional, deixe em branco se não houver): \")\n",
        "    print(\"Pressione Enter para arquivar o exame.\")\n",
        "    input() # Simula o botão de envio.\n",
        "    return dados\n",
        "\n",
        "def arquivar_exame(dados_exame):\n",
        "    \"\"\"\n",
        "    Recebe um dicionário com os dados do exame e o adiciona à lista de exames.\n",
        "    Simula uma mensagem de confirmação.\n",
        "    \"\"\"\n",
        "    lista_exames.append(dados_exame)\n",
        "    print(f\"Exame de {dados_exame.get('tipo_exame', 'desconhecido')} arquivado com sucesso.\")\n",
        "\n",
        "def buscar_exames(criterios_busca):\n",
        "    \"\"\"\n",
        "    Recebe um dicionário com critérios de busca e retorna uma lista de exames correspondentes.\n",
        "    A busca é realizada com base nos critérios fornecidos.\n",
        "    \"\"\"\n",
        "    resultados = []\n",
        "    if criterios_busca:\n",
        "        for exame in lista_exames:\n",
        "            correspondencia = True\n",
        "            for chave, valor_busca in criterios_busca.items():\n",
        "                if valor_busca:  # Verifica se o valor de busca não está vazio\n",
        "                    if chave == 'periodo':\n",
        "                        if isinstance(valor_busca, str) and valor_busca.isdigit() and len(valor_busca) == 4:\n",
        "                            ano_exame = exame.get('data_exame', '').split('-')[0]\n",
        "                            if ano_exame != valor_busca:\n",
        "                                correspondencia = False\n",
        "                                break\n",
        "                        # Adicione aqui lógica para outros formatos de período, se necessário\n",
        "                    elif exame.get(chave) != valor_busca:\n",
        "                        correspondencia = False\n",
        "                        break\n",
        "            if correspondencia:\n",
        "                resultados.append(exame)\n",
        "        if not resultados:\n",
        "            print(\"\\nNenhum exame encontrado com os critérios fornecidos.\")\n",
        "    else:\n",
        "        print(\"Nenhum critério de busca fornecido.\")\n",
        "    return resultados\n",
        "\n",
        "if __name__ == '__main__':\n",
        "    while True:\n",
        "        print(\"\\nOpções:\")\n",
        "        print(\"1 - Adicionar novo exame\")\n",
        "        print(\"2 - Buscar exames\")\n",
        "        print(\"3 - Listar todos os exames\")\n",
        "        print(\"4 - Sair\")\n",
        "\n",
        "        opcao = input(\"Escolha uma opção: \")\n",
        "\n",
        "        if opcao == '1':\n",
        "            dados_novo_exame = coletar_dados_exame()\n",
        "            arquivar_exame(dados_novo_exame)\n",
        "        elif opcao == '2':\n",
        "            criterios = {}\n",
        "            print(\"\\nSelecione o critério de busca (ou pressione Enter para buscar todos):\")\n",
        "            print(\"1 - Tipo do exame\")\n",
        "            print(\"2 - Data do exame\")\n",
        "            print(\"3 - Nome do médico\")\n",
        "            print(\"4 - Nome do laboratório\")\n",
        "            print(\"5 - Período (ano)\")\n",
        "            escolha_busca = input(\"Digite o número da sua escolha: \")\n",
        "\n",
        "            if escolha_busca == '1':\n",
        "                criterios['tipo_exame'] = input(\"Digite o tipo do exame: \")\n",
        "            elif escolha_busca == '2':\n",
        "                criterios['data_exame'] = input(\"Digite a data do exame (AAAA-MM-DD): \")\n",
        "            elif escolha_busca == '3':\n",
        "                criterios['nome_medico'] = input(\"Digite o nome do médico: \")\n",
        "            elif escolha_busca == '4':\n",
        "                criterios['nome_laboratorio'] = input(\"Digite o nome do laboratório: \")\n",
        "            elif escolha_busca == '5':\n",
        "                criterios['periodo'] = input(\"Digite o período (ano AAAA): \")\n",
        "            elif not escolha_busca:\n",
        "                pass # Buscar todos os exames se Enter for pressionado\n",
        "            else:\n",
        "                print(\"Opção de busca inválida.\")\n",
        "\n",
        "            resultados_busca = buscar_exames(criterios)\n",
        "            if resultados_busca:\n",
        "                print(\"\\nResultados da busca:\")\n",
        "                for exame in resultados_busca:\n",
        "                    print(exame)\n",
        "            elif criterios: # Se o usuário escolheu um critério mas não houve resultados\n",
        "                pass # A mensagem já é impressa dentro da função buscar_exames\n",
        "        elif opcao == '3':\n",
        "            if lista_exames:\n",
        "                print(\"\\nLista de todos os exames:\")\n",
        "                for exame in lista_exames:\n",
        "                    print(exame)\n",
        "            else:\n",
        "                print(\"\\nAinda não há exames arquivados.\")\n",
        "        elif opcao == '4':\n",
        "            print(\"Saindo do programa.\")\n",
        "            break\n",
        "        else:\n",
        "            print(\"Opção inválida. Tente novamente.\")"
      ],
      "metadata": {
        "id": "HwVP7Xi34Zuw",
        "colab": {
          "base_uri": "https://localhost:8080/"
        },
        "outputId": "ecf821d1-01fc-4b2b-a13b-abcaab5b2bb5"
      },
      "execution_count": null,
      "outputs": [
        {
          "output_type": "stream",
          "name": "stdout",
          "text": [
            "\n",
            "Opções:\n",
            "1 - Adicionar novo exame\n",
            "2 - Buscar exames\n",
            "3 - Listar todos os exames\n",
            "4 - Sair\n",
            "Escolha uma opção: 4\n",
            "Saindo do programa.\n"
          ]
        }
      ]
    },
    {
      "cell_type": "code",
      "source": [
        "!pip install Flask\n",
        "!pip install flask_ngrok"
      ],
      "metadata": {
        "colab": {
          "base_uri": "https://localhost:8080/"
        },
        "id": "nFETVR85_kTp",
        "outputId": "2e131bd2-bfbe-4122-ce58-d16e548b4152"
      },
      "execution_count": 2,
      "outputs": [
        {
          "output_type": "stream",
          "name": "stdout",
          "text": [
            "Requirement already satisfied: Flask in /usr/local/lib/python3.11/dist-packages (3.1.1)\n",
            "Requirement already satisfied: blinker>=1.9.0 in /usr/local/lib/python3.11/dist-packages (from Flask) (1.9.0)\n",
            "Requirement already satisfied: click>=8.1.3 in /usr/local/lib/python3.11/dist-packages (from Flask) (8.2.0)\n",
            "Requirement already satisfied: itsdangerous>=2.2.0 in /usr/local/lib/python3.11/dist-packages (from Flask) (2.2.0)\n",
            "Requirement already satisfied: jinja2>=3.1.2 in /usr/local/lib/python3.11/dist-packages (from Flask) (3.1.6)\n",
            "Requirement already satisfied: markupsafe>=2.1.1 in /usr/local/lib/python3.11/dist-packages (from Flask) (3.0.2)\n",
            "Requirement already satisfied: werkzeug>=3.1.0 in /usr/local/lib/python3.11/dist-packages (from Flask) (3.1.3)\n",
            "Collecting flask_ngrok\n",
            "  Downloading flask_ngrok-0.0.25-py3-none-any.whl.metadata (1.8 kB)\n",
            "Requirement already satisfied: Flask>=0.8 in /usr/local/lib/python3.11/dist-packages (from flask_ngrok) (3.1.1)\n",
            "Requirement already satisfied: requests in /usr/local/lib/python3.11/dist-packages (from flask_ngrok) (2.32.3)\n",
            "Requirement already satisfied: blinker>=1.9.0 in /usr/local/lib/python3.11/dist-packages (from Flask>=0.8->flask_ngrok) (1.9.0)\n",
            "Requirement already satisfied: click>=8.1.3 in /usr/local/lib/python3.11/dist-packages (from Flask>=0.8->flask_ngrok) (8.2.0)\n",
            "Requirement already satisfied: itsdangerous>=2.2.0 in /usr/local/lib/python3.11/dist-packages (from Flask>=0.8->flask_ngrok) (2.2.0)\n",
            "Requirement already satisfied: jinja2>=3.1.2 in /usr/local/lib/python3.11/dist-packages (from Flask>=0.8->flask_ngrok) (3.1.6)\n",
            "Requirement already satisfied: markupsafe>=2.1.1 in /usr/local/lib/python3.11/dist-packages (from Flask>=0.8->flask_ngrok) (3.0.2)\n",
            "Requirement already satisfied: werkzeug>=3.1.0 in /usr/local/lib/python3.11/dist-packages (from Flask>=0.8->flask_ngrok) (3.1.3)\n",
            "Requirement already satisfied: charset-normalizer<4,>=2 in /usr/local/lib/python3.11/dist-packages (from requests->flask_ngrok) (3.4.2)\n",
            "Requirement already satisfied: idna<4,>=2.5 in /usr/local/lib/python3.11/dist-packages (from requests->flask_ngrok) (3.10)\n",
            "Requirement already satisfied: urllib3<3,>=1.21.1 in /usr/local/lib/python3.11/dist-packages (from requests->flask_ngrok) (2.4.0)\n",
            "Requirement already satisfied: certifi>=2017.4.17 in /usr/local/lib/python3.11/dist-packages (from requests->flask_ngrok) (2025.4.26)\n",
            "Downloading flask_ngrok-0.0.25-py3-none-any.whl (3.1 kB)\n",
            "Installing collected packages: flask_ngrok\n",
            "Successfully installed flask_ngrok-0.0.25\n"
          ]
        }
      ]
    },
    {
      "cell_type": "code",
      "source": [
        "# Este é um exemplo básico para demonstrar como você poderia interagir com elementos HTML\n",
        "# usando Python no Colab. Note que Python rodando no Colab não interage diretamente\n",
        "# com a renderização do HTML no navegador da mesma forma que JavaScript faria.\n",
        "# O foco aqui é em como você poderia processar dados ou simular interações.\n",
        "\n",
        "# Para realmente manipular o DOM (Document Object Model) de uma página web renderizada,\n",
        "# você precisaria usar JavaScript no lado do cliente (dentro do navegador).\n",
        "\n",
        "# No entanto, podemos usar Python para tarefas como:\n",
        "# 1. Simular o recebimento de dados de um formulário HTML.\n",
        "# 2. Processar esses dados.\n",
        "# 3. Gerar HTML dinamicamente (se você estivesse construindo a página com Python).\n",
        "\n",
        "# Exemplo 1: Simulação de envio de mensagem\n",
        "def enviar_mensagem(mensagem):\n",
        "  \"\"\"Simula o envio de uma mensagem.\"\"\"\n",
        "  print(f\"Mensagem a ser enviada: {mensagem}\")\n",
        "  # Aqui você poderia adicionar lógica para armazenar a mensagem,\n",
        "  # enviar para um servidor, etc.\n",
        "\n",
        "# Simulação de interação com o input de texto\n",
        "mensagem_digitada = \"Olá do Python!\"\n",
        "enviar_mensagem(mensagem_digitada)\n",
        "\n",
        "# Exemplo 2: Simulação de clique em um botão\n",
        "def acao_arquivar():\n",
        "  \"\"\"Simula a ação de arquivar.\"\"\"\n",
        "  print(\"Ação: Arquivar\")\n",
        "  # Adicione aqui a lógica para arquivar algo.\n",
        "\n",
        "def acao_agendar():\n",
        "  \"\"\"Simula a ação de agendar.\"\"\"\n",
        "  print(\"Ação: Agendar\")\n",
        "  # Adicione aqui a lógica para agendar algo.\n",
        "\n",
        "def acao_buscar():\n",
        "  \"\"\"Simula a ação de buscar.\"\"\"\n",
        "  print(\"Ação: Buscar\")\n",
        "  # Adicione aqui a lógica para realizar uma busca.\n",
        "\n",
        "# Simulação de cliques nos botões\n",
        "acao_arquivar()\n",
        "acao_agendar()\n",
        "acao_buscar()\n",
        "\n",
        "# Em um cenário real onde você tem um backend Python (usando frameworks como Flask ou Django),\n",
        "# você usaria Python para:\n",
        "# - Receber dados de formulários HTML.\n",
        "# - Consultar bancos de dados.\n",
        "# - Realizar lógica de negócios.\n",
        "# - Renderizar páginas HTML dinamicamente.\n",
        "\n",
        "# Para interatividade direta no navegador com o HTML que você definiu, JavaScript seria necessário.\n",
        "# Python no Colab é útil para processamento de dados, análise e tarefas de backend."
      ],
      "metadata": {
        "colab": {
          "base_uri": "https://localhost:8080/"
        },
        "id": "Ur8WtFLq_DLi",
        "outputId": "04d1109b-7a0a-42b6-8cb8-4169dc0a619a"
      },
      "execution_count": 9,
      "outputs": [
        {
          "output_type": "stream",
          "name": "stdout",
          "text": [
            "Mensagem a ser enviada: Olá do Python!\n",
            "Ação: Arquivar\n",
            "Ação: Agendar\n",
            "Ação: Buscar\n"
          ]
        }
      ]
    },
    {
      "cell_type": "code",
      "source": [
        "import json\n",
        "\n",
        "def salvar_exames(lista_exames, nome_arquivo=\"exames.json\"):\n",
        "    with open(nome_arquivo, 'w') as f:\n",
        "        json.dump(lista_exames, f)\n",
        "\n",
        "def carregar_exames(nome_arquivo=\"exames.json\"):\n",
        "    try:\n",
        "        with open(nome_arquivo, 'r') as f:\n",
        "            return json.load(f)\n",
        "    except FileNotFoundError:\n",
        "        return []\n",
        "\n",
        "# ... (seu código de coleta e arquivamento) ...\n",
        "\n",
        "if __name__ == '__main__':\n",
        "    lista_exames = carregar_exames() # Carrega os dados no início\n",
        "\n",
        "    # ... (sua lógica de adicionar e buscar exames) ...\n",
        "\n",
        "    salvar_exames(lista_exames) # Salva os dados antes de sair ou em momentos específicos"
      ],
      "metadata": {
        "id": "T2w2fskgFz8-"
      },
      "execution_count": 12,
      "outputs": []
    },
    {
      "cell_type": "code",
      "source": [
        "import csv\n",
        "\n",
        "def salvar_exames_csv(lista_exames, nome_arquivo=\"exames.csv\"):\n",
        "    with open(nome_arquivo, 'w', newline='') as csvfile:\n",
        "        fieldnames = lista_exames[0].keys() if lista_exames else []\n",
        "        writer = csv.DictWriter(csvfile, fieldnames=fieldnames)\n",
        "        writer.writeheader()\n",
        "        writer.writerows(lista_exames)\n",
        "\n",
        "def carregar_exames_csv(nome_arquivo=\"exames.csv\"):\n",
        "    try:\n",
        "        with open(nome_arquivo, 'r', newline='') as csvfile:\n",
        "            reader = csv.DictReader(csvfile)\n",
        "            return list(reader)\n",
        "    except FileNotFoundError:\n",
        "        return []\n",
        "\n",
        "# ... (seu código de coleta e arquivamento) ...\n",
        "\n",
        "if __name__ == '__main__':\n",
        "    lista_exames = carregar_exames_csv() # Carrega os dados no início\n",
        "\n",
        "    # ... (sua lógica de adicionar e buscar exames) ...\n",
        "\n",
        "    salvar_exames_csv(lista_exames) # Salva os dados antes de sair ou em momentos específicos"
      ],
      "metadata": {
        "id": "rztz5YOOE5w4"
      },
      "execution_count": 14,
      "outputs": []
    },
    {
      "cell_type": "code",
      "source": [
        "!pip install --upgrade google-api-python-client google-auth-httplib2 google-auth-oauthlib"
      ],
      "metadata": {
        "colab": {
          "base_uri": "https://localhost:8080/"
        },
        "id": "52g7LBoM0r9_",
        "outputId": "5c31fc38-d7b4-4d2b-db87-5d7c01437e93"
      },
      "execution_count": null,
      "outputs": [
        {
          "output_type": "stream",
          "name": "stdout",
          "text": [
            "Requirement already satisfied: google-api-python-client in /usr/local/lib/python3.11/dist-packages (2.169.0)\n",
            "Requirement already satisfied: google-auth-httplib2 in /usr/local/lib/python3.11/dist-packages (0.2.0)\n",
            "Requirement already satisfied: google-auth-oauthlib in /usr/local/lib/python3.11/dist-packages (1.2.2)\n",
            "Requirement already satisfied: httplib2<1.0.0,>=0.19.0 in /usr/local/lib/python3.11/dist-packages (from google-api-python-client) (0.22.0)\n",
            "Requirement already satisfied: google-auth!=2.24.0,!=2.25.0,<3.0.0,>=1.32.0 in /usr/local/lib/python3.11/dist-packages (from google-api-python-client) (2.38.0)\n",
            "Requirement already satisfied: google-api-core!=2.0.*,!=2.1.*,!=2.2.*,!=2.3.0,<3.0.0,>=1.31.5 in /usr/local/lib/python3.11/dist-packages (from google-api-python-client) (2.24.2)\n",
            "Requirement already satisfied: uritemplate<5,>=3.0.1 in /usr/local/lib/python3.11/dist-packages (from google-api-python-client) (4.1.1)\n",
            "Requirement already satisfied: requests-oauthlib>=0.7.0 in /usr/local/lib/python3.11/dist-packages (from google-auth-oauthlib) (2.0.0)\n",
            "Requirement already satisfied: googleapis-common-protos<2.0.0,>=1.56.2 in /usr/local/lib/python3.11/dist-packages (from google-api-core!=2.0.*,!=2.1.*,!=2.2.*,!=2.3.0,<3.0.0,>=1.31.5->google-api-python-client) (1.70.0)\n",
            "Requirement already satisfied: protobuf!=3.20.0,!=3.20.1,!=4.21.0,!=4.21.1,!=4.21.2,!=4.21.3,!=4.21.4,!=4.21.5,<7.0.0,>=3.19.5 in /usr/local/lib/python3.11/dist-packages (from google-api-core!=2.0.*,!=2.1.*,!=2.2.*,!=2.3.0,<3.0.0,>=1.31.5->google-api-python-client) (5.29.4)\n",
            "Requirement already satisfied: proto-plus<2.0.0,>=1.22.3 in /usr/local/lib/python3.11/dist-packages (from google-api-core!=2.0.*,!=2.1.*,!=2.2.*,!=2.3.0,<3.0.0,>=1.31.5->google-api-python-client) (1.26.1)\n",
            "Requirement already satisfied: requests<3.0.0,>=2.18.0 in /usr/local/lib/python3.11/dist-packages (from google-api-core!=2.0.*,!=2.1.*,!=2.2.*,!=2.3.0,<3.0.0,>=1.31.5->google-api-python-client) (2.32.3)\n",
            "Requirement already satisfied: cachetools<6.0,>=2.0.0 in /usr/local/lib/python3.11/dist-packages (from google-auth!=2.24.0,!=2.25.0,<3.0.0,>=1.32.0->google-api-python-client) (5.5.2)\n",
            "Requirement already satisfied: pyasn1-modules>=0.2.1 in /usr/local/lib/python3.11/dist-packages (from google-auth!=2.24.0,!=2.25.0,<3.0.0,>=1.32.0->google-api-python-client) (0.4.2)\n",
            "Requirement already satisfied: rsa<5,>=3.1.4 in /usr/local/lib/python3.11/dist-packages (from google-auth!=2.24.0,!=2.25.0,<3.0.0,>=1.32.0->google-api-python-client) (4.9.1)\n",
            "Requirement already satisfied: pyparsing!=3.0.0,!=3.0.1,!=3.0.2,!=3.0.3,<4,>=2.4.2 in /usr/local/lib/python3.11/dist-packages (from httplib2<1.0.0,>=0.19.0->google-api-python-client) (3.2.3)\n",
            "Requirement already satisfied: oauthlib>=3.0.0 in /usr/local/lib/python3.11/dist-packages (from requests-oauthlib>=0.7.0->google-auth-oauthlib) (3.2.2)\n",
            "Requirement already satisfied: pyasn1<0.7.0,>=0.6.1 in /usr/local/lib/python3.11/dist-packages (from pyasn1-modules>=0.2.1->google-auth!=2.24.0,!=2.25.0,<3.0.0,>=1.32.0->google-api-python-client) (0.6.1)\n",
            "Requirement already satisfied: charset-normalizer<4,>=2 in /usr/local/lib/python3.11/dist-packages (from requests<3.0.0,>=2.18.0->google-api-core!=2.0.*,!=2.1.*,!=2.2.*,!=2.3.0,<3.0.0,>=1.31.5->google-api-python-client) (3.4.2)\n",
            "Requirement already satisfied: idna<4,>=2.5 in /usr/local/lib/python3.11/dist-packages (from requests<3.0.0,>=2.18.0->google-api-core!=2.0.*,!=2.1.*,!=2.2.*,!=2.3.0,<3.0.0,>=1.31.5->google-api-python-client) (3.10)\n",
            "Requirement already satisfied: urllib3<3,>=1.21.1 in /usr/local/lib/python3.11/dist-packages (from requests<3.0.0,>=2.18.0->google-api-core!=2.0.*,!=2.1.*,!=2.2.*,!=2.3.0,<3.0.0,>=1.31.5->google-api-python-client) (2.4.0)\n",
            "Requirement already satisfied: certifi>=2017.4.17 in /usr/local/lib/python3.11/dist-packages (from requests<3.0.0,>=2.18.0->google-api-core!=2.0.*,!=2.1.*,!=2.2.*,!=2.3.0,<3.0.0,>=1.31.5->google-api-python-client) (2025.4.26)\n"
          ]
        }
      ]
    },
    {
      "cell_type": "code",
      "source": [
        "import google.generativeai as genai\n",
        "from IPython.display import Markdown, display\n",
        "\n",
        "# Sua chave de API do Gemini\n",
        "GOOGLE_API_KEY = \"SUA_CHAVE_DE_API\"\n",
        "genai.configure(api_key=GOOGLE_API_KEY)\n",
        "\n",
        "# Define o modelo a ser usado\n",
        "MODEL_ID = \"gemini-pro\" # Ou outro modelo de sua preferência\n",
        "\n",
        "# Configuração da ferramenta de busca do Google\n",
        "tools = [\n",
        "    {\n",
        "        \"name\": \"google_search\",\n",
        "        \"tool_function\": {\n",
        "            \"name\": \"google_search\",\n",
        "            \"description\": \"Use a busca do Google para obter informações.\",\n",
        "            \"parameters\": {\n",
        "                \"type\": \"object\",\n",
        "                \"properties\": {\n",
        "                    \"query\": {\n",
        "                        \"type\": \"string\",\n",
        "                        \"description\": \"A consulta de pesquisa.\",\n",
        "                    }\n",
        "                },\n",
        "                \"required\": [\"query\"],\n",
        "            },\n",
        "        },\n",
        "    }\n",
        "]\n",
        "\n",
        "# Inicializa o modelo com as ferramentas\n",
        "model = genai.GenerativeModel(MODEL_ID, tools=tools)\n",
        "\n",
        "# Sua pergunta para o Gemini\n",
        "contents = \"Implementação de um chatbot onde o usuario poderá solicitar ao chat para: arquivar os exames médicos em um tabela no google sheets; agendar no google calendario os proximos compromissos de saúde, buscar por exame arquivado, buscar o compromisso agendado. Como posso começar a implementar essas funcionalidades usando a API do Google?\"\n",
        "\n",
        "# Gera a resposta\n",
        "response = model.generate_content(contents)\n",
        "\n",
        "# Exibe a resposta na tela\n",
        "display(Markdown(f\"Resposta:\\n {response.text}\"))"
      ],
      "metadata": {
        "colab": {
          "base_uri": "https://localhost:8080/",
          "height": 372
        },
        "id": "dYNEvjxnQYh4",
        "outputId": "0ff05686-45be-44b4-c2a8-aa7716e323bd"
      },
      "execution_count": 17,
      "outputs": [
        {
          "output_type": "error",
          "ename": "ValueError",
          "evalue": "Unknown field for FunctionDeclaration: tool_function",
          "traceback": [
            "\u001b[0;31m---------------------------------------------------------------------------\u001b[0m",
            "\u001b[0;31mValueError\u001b[0m                                Traceback (most recent call last)",
            "\u001b[0;32m<ipython-input-17-aa807c12b0bc>\u001b[0m in \u001b[0;36m<cell line: 0>\u001b[0;34m()\u001b[0m\n\u001b[1;32m     31\u001b[0m \u001b[0;34m\u001b[0m\u001b[0m\n\u001b[1;32m     32\u001b[0m \u001b[0;31m# Inicializa o modelo com as ferramentas\u001b[0m\u001b[0;34m\u001b[0m\u001b[0;34m\u001b[0m\u001b[0m\n\u001b[0;32m---> 33\u001b[0;31m \u001b[0mmodel\u001b[0m \u001b[0;34m=\u001b[0m \u001b[0mgenai\u001b[0m\u001b[0;34m.\u001b[0m\u001b[0mGenerativeModel\u001b[0m\u001b[0;34m(\u001b[0m\u001b[0mMODEL_ID\u001b[0m\u001b[0;34m,\u001b[0m \u001b[0mtools\u001b[0m\u001b[0;34m=\u001b[0m\u001b[0mtools\u001b[0m\u001b[0;34m)\u001b[0m\u001b[0;34m\u001b[0m\u001b[0;34m\u001b[0m\u001b[0m\n\u001b[0m\u001b[1;32m     34\u001b[0m \u001b[0;34m\u001b[0m\u001b[0m\n\u001b[1;32m     35\u001b[0m \u001b[0;31m# Sua pergunta para o Gemini\u001b[0m\u001b[0;34m\u001b[0m\u001b[0;34m\u001b[0m\u001b[0m\n",
            "\u001b[0;32m/usr/local/lib/python3.11/dist-packages/google/generativeai/generative_models.py\u001b[0m in \u001b[0;36m__init__\u001b[0;34m(self, model_name, safety_settings, generation_config, tools, tool_config, system_instruction)\u001b[0m\n\u001b[1;32m     85\u001b[0m         \u001b[0mself\u001b[0m\u001b[0;34m.\u001b[0m\u001b[0m_safety_settings\u001b[0m \u001b[0;34m=\u001b[0m \u001b[0msafety_types\u001b[0m\u001b[0;34m.\u001b[0m\u001b[0mto_easy_safety_dict\u001b[0m\u001b[0;34m(\u001b[0m\u001b[0msafety_settings\u001b[0m\u001b[0;34m)\u001b[0m\u001b[0;34m\u001b[0m\u001b[0;34m\u001b[0m\u001b[0m\n\u001b[1;32m     86\u001b[0m         \u001b[0mself\u001b[0m\u001b[0;34m.\u001b[0m\u001b[0m_generation_config\u001b[0m \u001b[0;34m=\u001b[0m \u001b[0mgeneration_types\u001b[0m\u001b[0;34m.\u001b[0m\u001b[0mto_generation_config_dict\u001b[0m\u001b[0;34m(\u001b[0m\u001b[0mgeneration_config\u001b[0m\u001b[0;34m)\u001b[0m\u001b[0;34m\u001b[0m\u001b[0;34m\u001b[0m\u001b[0m\n\u001b[0;32m---> 87\u001b[0;31m         \u001b[0mself\u001b[0m\u001b[0;34m.\u001b[0m\u001b[0m_tools\u001b[0m \u001b[0;34m=\u001b[0m \u001b[0mcontent_types\u001b[0m\u001b[0;34m.\u001b[0m\u001b[0mto_function_library\u001b[0m\u001b[0;34m(\u001b[0m\u001b[0mtools\u001b[0m\u001b[0;34m)\u001b[0m\u001b[0;34m\u001b[0m\u001b[0;34m\u001b[0m\u001b[0m\n\u001b[0m\u001b[1;32m     88\u001b[0m \u001b[0;34m\u001b[0m\u001b[0m\n\u001b[1;32m     89\u001b[0m         \u001b[0;32mif\u001b[0m \u001b[0mtool_config\u001b[0m \u001b[0;32mis\u001b[0m \u001b[0;32mNone\u001b[0m\u001b[0;34m:\u001b[0m\u001b[0;34m\u001b[0m\u001b[0;34m\u001b[0m\u001b[0m\n",
            "\u001b[0;32m/usr/local/lib/python3.11/dist-packages/google/generativeai/types/content_types.py\u001b[0m in \u001b[0;36mto_function_library\u001b[0;34m(lib)\u001b[0m\n\u001b[1;32m    915\u001b[0m         \u001b[0;32mreturn\u001b[0m \u001b[0mlib\u001b[0m\u001b[0;34m\u001b[0m\u001b[0;34m\u001b[0m\u001b[0m\n\u001b[1;32m    916\u001b[0m     \u001b[0;32melse\u001b[0m\u001b[0;34m:\u001b[0m\u001b[0;34m\u001b[0m\u001b[0;34m\u001b[0m\u001b[0m\n\u001b[0;32m--> 917\u001b[0;31m         \u001b[0;32mreturn\u001b[0m \u001b[0mFunctionLibrary\u001b[0m\u001b[0;34m(\u001b[0m\u001b[0mtools\u001b[0m\u001b[0;34m=\u001b[0m\u001b[0mlib\u001b[0m\u001b[0;34m)\u001b[0m\u001b[0;34m\u001b[0m\u001b[0;34m\u001b[0m\u001b[0m\n\u001b[0m\u001b[1;32m    918\u001b[0m \u001b[0;34m\u001b[0m\u001b[0m\n\u001b[1;32m    919\u001b[0m \u001b[0;34m\u001b[0m\u001b[0m\n",
            "\u001b[0;32m/usr/local/lib/python3.11/dist-packages/google/generativeai/types/content_types.py\u001b[0m in \u001b[0;36m__init__\u001b[0;34m(self, tools)\u001b[0m\n\u001b[1;32m    853\u001b[0m \u001b[0;34m\u001b[0m\u001b[0m\n\u001b[1;32m    854\u001b[0m     \u001b[0;32mdef\u001b[0m \u001b[0m__init__\u001b[0m\u001b[0;34m(\u001b[0m\u001b[0mself\u001b[0m\u001b[0;34m,\u001b[0m \u001b[0mtools\u001b[0m\u001b[0;34m:\u001b[0m \u001b[0mIterable\u001b[0m\u001b[0;34m[\u001b[0m\u001b[0mToolType\u001b[0m\u001b[0;34m]\u001b[0m\u001b[0;34m)\u001b[0m\u001b[0;34m:\u001b[0m\u001b[0;34m\u001b[0m\u001b[0;34m\u001b[0m\u001b[0m\n\u001b[0;32m--> 855\u001b[0;31m         \u001b[0mtools\u001b[0m \u001b[0;34m=\u001b[0m \u001b[0m_make_tools\u001b[0m\u001b[0;34m(\u001b[0m\u001b[0mtools\u001b[0m\u001b[0;34m)\u001b[0m\u001b[0;34m\u001b[0m\u001b[0;34m\u001b[0m\u001b[0m\n\u001b[0m\u001b[1;32m    856\u001b[0m         \u001b[0mself\u001b[0m\u001b[0;34m.\u001b[0m\u001b[0m_tools\u001b[0m \u001b[0;34m=\u001b[0m \u001b[0mlist\u001b[0m\u001b[0;34m(\u001b[0m\u001b[0mtools\u001b[0m\u001b[0;34m)\u001b[0m\u001b[0;34m\u001b[0m\u001b[0;34m\u001b[0m\u001b[0m\n\u001b[1;32m    857\u001b[0m         \u001b[0mself\u001b[0m\u001b[0;34m.\u001b[0m\u001b[0m_index\u001b[0m \u001b[0;34m=\u001b[0m \u001b[0;34m{\u001b[0m\u001b[0;34m}\u001b[0m\u001b[0;34m\u001b[0m\u001b[0;34m\u001b[0m\u001b[0m\n",
            "\u001b[0;32m/usr/local/lib/python3.11/dist-packages/google/generativeai/types/content_types.py\u001b[0m in \u001b[0;36m_make_tools\u001b[0;34m(tools)\u001b[0m\n\u001b[1;32m    896\u001b[0m             \u001b[0;32mraise\u001b[0m \u001b[0mValueError\u001b[0m\u001b[0;34m(\u001b[0m\u001b[0;34m\"The only string that can be passed as a tool is 'code_execution'.\"\u001b[0m\u001b[0;34m)\u001b[0m\u001b[0;34m\u001b[0m\u001b[0;34m\u001b[0m\u001b[0m\n\u001b[1;32m    897\u001b[0m     \u001b[0;32melif\u001b[0m \u001b[0misinstance\u001b[0m\u001b[0;34m(\u001b[0m\u001b[0mtools\u001b[0m\u001b[0;34m,\u001b[0m \u001b[0mIterable\u001b[0m\u001b[0;34m)\u001b[0m \u001b[0;32mand\u001b[0m \u001b[0;32mnot\u001b[0m \u001b[0misinstance\u001b[0m\u001b[0;34m(\u001b[0m\u001b[0mtools\u001b[0m\u001b[0;34m,\u001b[0m \u001b[0mMapping\u001b[0m\u001b[0;34m)\u001b[0m\u001b[0;34m:\u001b[0m\u001b[0;34m\u001b[0m\u001b[0;34m\u001b[0m\u001b[0m\n\u001b[0;32m--> 898\u001b[0;31m         \u001b[0mtools\u001b[0m \u001b[0;34m=\u001b[0m \u001b[0;34m[\u001b[0m\u001b[0m_make_tool\u001b[0m\u001b[0;34m(\u001b[0m\u001b[0mt\u001b[0m\u001b[0;34m)\u001b[0m \u001b[0;32mfor\u001b[0m \u001b[0mt\u001b[0m \u001b[0;32min\u001b[0m \u001b[0mtools\u001b[0m\u001b[0;34m]\u001b[0m\u001b[0;34m\u001b[0m\u001b[0;34m\u001b[0m\u001b[0m\n\u001b[0m\u001b[1;32m    899\u001b[0m         \u001b[0;32mif\u001b[0m \u001b[0mlen\u001b[0m\u001b[0;34m(\u001b[0m\u001b[0mtools\u001b[0m\u001b[0;34m)\u001b[0m \u001b[0;34m>\u001b[0m \u001b[0;36m1\u001b[0m \u001b[0;32mand\u001b[0m \u001b[0mall\u001b[0m\u001b[0;34m(\u001b[0m\u001b[0mlen\u001b[0m\u001b[0;34m(\u001b[0m\u001b[0mt\u001b[0m\u001b[0;34m.\u001b[0m\u001b[0mfunction_declarations\u001b[0m\u001b[0;34m)\u001b[0m \u001b[0;34m==\u001b[0m \u001b[0;36m1\u001b[0m \u001b[0;32mfor\u001b[0m \u001b[0mt\u001b[0m \u001b[0;32min\u001b[0m \u001b[0mtools\u001b[0m\u001b[0;34m)\u001b[0m\u001b[0;34m:\u001b[0m\u001b[0;34m\u001b[0m\u001b[0;34m\u001b[0m\u001b[0m\n\u001b[1;32m    900\u001b[0m             \u001b[0;31m# flatten into a single tool.\u001b[0m\u001b[0;34m\u001b[0m\u001b[0;34m\u001b[0m\u001b[0m\n",
            "\u001b[0;32m/usr/local/lib/python3.11/dist-packages/google/generativeai/types/content_types.py\u001b[0m in \u001b[0;36m<listcomp>\u001b[0;34m(.0)\u001b[0m\n\u001b[1;32m    896\u001b[0m             \u001b[0;32mraise\u001b[0m \u001b[0mValueError\u001b[0m\u001b[0;34m(\u001b[0m\u001b[0;34m\"The only string that can be passed as a tool is 'code_execution'.\"\u001b[0m\u001b[0;34m)\u001b[0m\u001b[0;34m\u001b[0m\u001b[0;34m\u001b[0m\u001b[0m\n\u001b[1;32m    897\u001b[0m     \u001b[0;32melif\u001b[0m \u001b[0misinstance\u001b[0m\u001b[0;34m(\u001b[0m\u001b[0mtools\u001b[0m\u001b[0;34m,\u001b[0m \u001b[0mIterable\u001b[0m\u001b[0;34m)\u001b[0m \u001b[0;32mand\u001b[0m \u001b[0;32mnot\u001b[0m \u001b[0misinstance\u001b[0m\u001b[0;34m(\u001b[0m\u001b[0mtools\u001b[0m\u001b[0;34m,\u001b[0m \u001b[0mMapping\u001b[0m\u001b[0;34m)\u001b[0m\u001b[0;34m:\u001b[0m\u001b[0;34m\u001b[0m\u001b[0;34m\u001b[0m\u001b[0m\n\u001b[0;32m--> 898\u001b[0;31m         \u001b[0mtools\u001b[0m \u001b[0;34m=\u001b[0m \u001b[0;34m[\u001b[0m\u001b[0m_make_tool\u001b[0m\u001b[0;34m(\u001b[0m\u001b[0mt\u001b[0m\u001b[0;34m)\u001b[0m \u001b[0;32mfor\u001b[0m \u001b[0mt\u001b[0m \u001b[0;32min\u001b[0m \u001b[0mtools\u001b[0m\u001b[0;34m]\u001b[0m\u001b[0;34m\u001b[0m\u001b[0;34m\u001b[0m\u001b[0m\n\u001b[0m\u001b[1;32m    899\u001b[0m         \u001b[0;32mif\u001b[0m \u001b[0mlen\u001b[0m\u001b[0;34m(\u001b[0m\u001b[0mtools\u001b[0m\u001b[0;34m)\u001b[0m \u001b[0;34m>\u001b[0m \u001b[0;36m1\u001b[0m \u001b[0;32mand\u001b[0m \u001b[0mall\u001b[0m\u001b[0;34m(\u001b[0m\u001b[0mlen\u001b[0m\u001b[0;34m(\u001b[0m\u001b[0mt\u001b[0m\u001b[0;34m.\u001b[0m\u001b[0mfunction_declarations\u001b[0m\u001b[0;34m)\u001b[0m \u001b[0;34m==\u001b[0m \u001b[0;36m1\u001b[0m \u001b[0;32mfor\u001b[0m \u001b[0mt\u001b[0m \u001b[0;32min\u001b[0m \u001b[0mtools\u001b[0m\u001b[0;34m)\u001b[0m\u001b[0;34m:\u001b[0m\u001b[0;34m\u001b[0m\u001b[0;34m\u001b[0m\u001b[0m\n\u001b[1;32m    900\u001b[0m             \u001b[0;31m# flatten into a single tool.\u001b[0m\u001b[0;34m\u001b[0m\u001b[0;34m\u001b[0m\u001b[0m\n",
            "\u001b[0;32m/usr/local/lib/python3.11/dist-packages/google/generativeai/types/content_types.py\u001b[0m in \u001b[0;36m_make_tool\u001b[0;34m(tool)\u001b[0m\n\u001b[1;32m    821\u001b[0m         \u001b[0;32melse\u001b[0m\u001b[0;34m:\u001b[0m\u001b[0;34m\u001b[0m\u001b[0;34m\u001b[0m\u001b[0m\n\u001b[1;32m    822\u001b[0m             \u001b[0mfd\u001b[0m \u001b[0;34m=\u001b[0m \u001b[0mtool\u001b[0m\u001b[0;34m\u001b[0m\u001b[0;34m\u001b[0m\u001b[0m\n\u001b[0;32m--> 823\u001b[0;31m             \u001b[0;32mreturn\u001b[0m \u001b[0mTool\u001b[0m\u001b[0;34m(\u001b[0m\u001b[0mfunction_declarations\u001b[0m\u001b[0;34m=\u001b[0m\u001b[0;34m[\u001b[0m\u001b[0mprotos\u001b[0m\u001b[0;34m.\u001b[0m\u001b[0mFunctionDeclaration\u001b[0m\u001b[0;34m(\u001b[0m\u001b[0;34m**\u001b[0m\u001b[0mfd\u001b[0m\u001b[0;34m)\u001b[0m\u001b[0;34m]\u001b[0m\u001b[0;34m)\u001b[0m\u001b[0;34m\u001b[0m\u001b[0;34m\u001b[0m\u001b[0m\n\u001b[0m\u001b[1;32m    824\u001b[0m     \u001b[0;32melif\u001b[0m \u001b[0misinstance\u001b[0m\u001b[0;34m(\u001b[0m\u001b[0mtool\u001b[0m\u001b[0;34m,\u001b[0m \u001b[0mstr\u001b[0m\u001b[0;34m)\u001b[0m\u001b[0;34m:\u001b[0m\u001b[0;34m\u001b[0m\u001b[0;34m\u001b[0m\u001b[0m\n\u001b[1;32m    825\u001b[0m         \u001b[0;32mif\u001b[0m \u001b[0mtool\u001b[0m\u001b[0;34m.\u001b[0m\u001b[0mlower\u001b[0m\u001b[0;34m(\u001b[0m\u001b[0;34m)\u001b[0m \u001b[0;34m==\u001b[0m \u001b[0;34m\"code_execution\"\u001b[0m\u001b[0;34m:\u001b[0m\u001b[0;34m\u001b[0m\u001b[0;34m\u001b[0m\u001b[0m\n",
            "\u001b[0;32m/usr/local/lib/python3.11/dist-packages/proto/message.py\u001b[0m in \u001b[0;36m__init__\u001b[0;34m(self, mapping, ignore_unknown_fields, **kwargs)\u001b[0m\n\u001b[1;32m    722\u001b[0m                     \u001b[0;32mcontinue\u001b[0m\u001b[0;34m\u001b[0m\u001b[0;34m\u001b[0m\u001b[0m\n\u001b[1;32m    723\u001b[0m \u001b[0;34m\u001b[0m\u001b[0m\n\u001b[0;32m--> 724\u001b[0;31m                 raise ValueError(\n\u001b[0m\u001b[1;32m    725\u001b[0m                     \u001b[0;34m\"Unknown field for {}: {}\"\u001b[0m\u001b[0;34m.\u001b[0m\u001b[0mformat\u001b[0m\u001b[0;34m(\u001b[0m\u001b[0mself\u001b[0m\u001b[0;34m.\u001b[0m\u001b[0m__class__\u001b[0m\u001b[0;34m.\u001b[0m\u001b[0m__name__\u001b[0m\u001b[0;34m,\u001b[0m \u001b[0mkey\u001b[0m\u001b[0;34m)\u001b[0m\u001b[0;34m\u001b[0m\u001b[0;34m\u001b[0m\u001b[0m\n\u001b[1;32m    726\u001b[0m                 )\n",
            "\u001b[0;31mValueError\u001b[0m: Unknown field for FunctionDeclaration: tool_function"
          ]
        }
      ]
    }
  ]
}